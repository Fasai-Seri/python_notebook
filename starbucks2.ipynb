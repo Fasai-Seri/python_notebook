{
  "nbformat": 4,
  "nbformat_minor": 0,
  "metadata": {
    "colab": {
      "provenance": []
    },
    "kernelspec": {
      "name": "python3",
      "display_name": "Python 3"
    },
    "language_info": {
      "name": "python"
    }
  },
  "cells": [
    {
      "cell_type": "markdown",
      "source": [
        "# **Executive Summary**\n",
        "\n",
        "## Overview:\n",
        "\n",
        "- ร้าน Starbucks เป็นร้านกาแฟ ปัจจุบันมีสาขากว่า 27,984 สาขาทั้งในสหรัฐฯ และในอีก 73 ประเทศ Starbucks ได้เข้ามาดำเนินกิจการในประเทศไทย และเปิดร้านสาขาแรกเมื่อเดือนกรกฎาคม ค.ศ. 1998 และในปี ค.ศ. 2018 ประเทศไทยมีจำนวนสาขาทั้งหมด 336 สาขา สตาร์บัคส์ถือได้ว่าเป็นผู้บุกบิกในการคั่วบดและค้าปลีกกาแฟคุณภาพเยี่ยมของโลก\n",
        "\n",
        "## Scope of Study\n",
        "- ร้าน Starbucks ในประเทศไทย ประกอบด้วยอาหาร, ขนม, เครื่องดื่ม,gift card และ Starbucks Merchandise โดยศึกษาทั้งแบบหน้าร้านและแบบสั่งออนไลน์ใน App Starbucks TH\n",
        "\n",
        "## Problems:\n",
        "\n",
        "- ในปัจจุบันประเทศไทยมีคาเฟ่เปิดใหม่เป็นจำนวนมากทำให้ผูับริโภคมีทางเลือกที่หลากหลายและตรงกับความต้องการและรสนิยมของตนได้มากขึ้น จึงเป็นหนึ่งในปัจจัยที่ส่งผลให้ Starbucks สร้างฐานลูกค้าใหม่ได้ลดลง สิ่งเหล่านี้เองทำให้ Starbucks ต้องพบกับการแข่งขันที่สูงขึ้นจึงต้องมีการปรับตัวและเปลี่ยนแปลงเกิดขึ้น\n",
        "\n",
        "## Solutions:\n",
        "\n",
        "- ร้าน Starbucks ในประเทศไทยต้องมีการปรับตัวและสร้างจุดแข็งให้สอดคล้องกับความต้องการของผู้บริโภคที่เปลี่ยนแปลงไปจากทางเลือกที่หลากหลาย เพื่อดึงดูดกลุ่มลูกค้าใหม่ๆที่กำลังเติบโตรวมไปถึงการรักษาฐานลูกค้าเก่า\n",
        "\n",
        "## Key success factors:\n",
        "\n",
        "- ร้าน Starbucks ในประเทศไทยมีการสร้างเมนูใหม่ๆ ออกมาตลอด และเลือกคอลเลคชั่นตรงกับความชอบของคนไทยส่วนใหญ่จึงเป็นที่นิยม\n",
        "\n",
        "- ร้าน Starbucks ในประเทศไทยมีคุณภาพเครื่องดื่มที่ยอดเยี่ยมและเป็นสถานที่ให้ผู้คนเข้ามาพบปะพูดคุย มีปฏิสัมพันธ์กันจึงทำให้เป็นที่รู้จักในวงกว้าง\n"
      ],
      "metadata": {
        "id": "4nFRdfc5pAXR"
      }
    },
    {
      "cell_type": "markdown",
      "source": [
        "# **Background Information**\n",
        "\n",
        "แรกเริ่มร้าน Starbucks เป็นร้านกาแฟร้านหนึ่งในตลาดไพค์ เพลสที่เก่าแก่ในเมืองซีแอตเทิล โดยคำว่า Starbucks นั้น ได้รับแรงบันดาลใจมาจากนวนิยายเรื่องโมบิดิก ที่ชวนให้นึกถึงความโรแมนติกของท้องทะเลและวิถีการเดินเรือของผู้ค้ากาแฟในยุคแรกเริ่ม\n",
        "\n",
        "ร้าน Starbucks มีวิสัยทัศน์ว่า “ร้านกาแฟคือสถานที่สำหรับการสนทนา ให้ความรู้สึกของความเป็นชุมชน เป็น บ้านหลังที่สาม นอกเหนือจากบ้านและที่ทำงาน”"
      ],
      "metadata": {
        "id": "a2bKX6HCupHW"
      }
    },
    {
      "cell_type": "markdown",
      "source": [
        "# **Database Design**"
      ],
      "metadata": {
        "id": "MFt8RVFourck"
      }
    },
    {
      "cell_type": "markdown",
      "source": [
        "## **Business Rules and Assumption**\n",
        "\n",
        "-  Delivery แต่ละ order เป็น Delivery ที่มาจากทาง Starbucks เท่านั้น (ไม่นับ Lineman, Grab , Etc.)\n",
        "- Starbucks ในขอบเขตที่เราศึกษาจะมีสินค้าที่ขายอยู่ทั้งหมด 5 อย่างนั้นก็คือ Drink(เครื่องดื่ม), Food(อาหาร), Merchandise(สินค้าต่างๆ เช่น กระติกน้ำ), coffee_bean_at_home(เมล็ดกาแฟ) และ tea_at_home(ผงชา)\n",
        "- ในส่วนของ Drink(เครื่องดื่ม) ลูกค้าสามารถเลือกระดับความหวานตามที่ต้องการและสามารถ Add on(เพิ่มท้อปปิ้ง) เข้าไปได้\n",
        "- gift card คือเป็นบัตรแทนเงินสดที่ลูกค้าสามารถซื้อให้กับผู้อื่นได้ โดยบัตรส่วนลดนั้นหากลูกค้านำมาใช้จะถูกนำมาคิดเป็นส่วนลดหลังคำนวณราคา order นั้นๆทั้งหมด\n",
        "-ในแต่ละ order ลูกค้าสามารถใช้ privilege ได้เพียง 1 สิทธิ์เท่านั้น\n",
        "-Tax invoice เป็นใบกำกับภาษีฉบับเต็มที่ทางองค์กรสามารถขอและนำไปยื่นเพื่อลดหย่อนภาษีได้\n",
        "-การจ่ายเงินจะสามารถจ่ายได้หลักๆ 3 ช่องทางนั้นก็คือ เงินสด,ตัดจากระบบ member card และโอนผ่านธนาคารต่างๆ\n",
        "\n",
        "\n",
        "\n",
        "\n",
        "\n",
        "\n",
        "\n"
      ],
      "metadata": {
        "id": "_-cqIvAju2zG"
      }
    },
    {
      "cell_type": "markdown",
      "source": [
        "## **Design Explaination**"
      ],
      "metadata": {
        "id": "QKk9CliF13jv"
      }
    },
    {
      "cell_type": "code",
      "source": [],
      "metadata": {
        "id": "fqtQ7KPhPHY7"
      },
      "execution_count": null,
      "outputs": []
    },
    {
      "cell_type": "markdown",
      "source": [
        "## Add_on\n",
        "\n",
        "ตาราง add_on สร้างขึ้นมาเพื่อเก็บตัวเลือกในการรังสรรค์เมนูของลูกค้าเพิ่มเติม ประเภทตัวเลือกได้แก่ นม, กาแฟ, syrup, condiments และท็อปปิ้ง มี primary key คือ add_on_id ตารางนี้เชื่อมไปยังตาราง order_drink_add_on โดยมีความสัมพันธ์แบบ one-to-many"
      ],
      "metadata": {
        "id": "-jXAS7pg2xx8"
      }
    },
    {
      "cell_type": "markdown",
      "source": [
        "## Branch\n",
        "\n",
        "ตาราง branch เก็บที่อยู่ของร้าน Starbucks แต่ละสาขา ประกอบไปด้วยถนน, ตำบล, แขวง, จังหวัด, รหัสไปรษณีย์และเบอร์โทรศัพท์ มี primary key คือ branch_id ตารางนี้เชื่อมไปยังตาราง employee และ order โดยมีความสัมพันธ์แบบ one-to-many"
      ],
      "metadata": {
        "id": "7n1Svd-P6gz9"
      }
    },
    {
      "cell_type": "markdown",
      "source": [
        "## Campaign\n",
        "\n",
        "ตาราง campaign สร้างขึ้นเพื่อเก็บชื่อและรายละเอียดกิจกรรมที่ร้าน Starbucks จัดทำขึ้น แล้วนำมาเชื่อมกับสินค้าที่ขายในร้านเพื่อดูว่าในแคมเปญนั้นมีสินค้าอะไรที่ร่วมรายการบ้าง สามารถนำมาหาได้ว่าในแคมเปญนั้นๆ มีผลตอบรับอะไร มีสินค้าไหนขายดีบ้าง มี primary key คือ campaign_id ตารางนี้เชื่อมไปยังตาราง merchandise,munu และ coffee_bean_at_home โดยมีความสัมพันธ์แบบ one-to-many"
      ],
      "metadata": {
        "id": "8Lp0MGOd6hRd"
      }
    },
    {
      "cell_type": "markdown",
      "source": [
        "## Category\n",
        "\n",
        "ตาราง category เก็บแยกประเภทของกินที่ขายในร้าน ได้แก่ หมวดอาหารและหมวดเครื่องดื่ม มี primary key คือ categoryid ตารางนี้เชื่อมไปยังตาราง menu โดยมีความสัมพันธ์แบบ one-to-many"
      ],
      "metadata": {
        "id": "2UTYhAwI6hUU"
      }
    },
    {
      "cell_type": "markdown",
      "source": [
        "## Coffee_bean_at_home\n",
        "\n",
        "ตาราง coffee_bean_at_home เก็บข้อมูลเมล็ดกาแฟที่มีขายอยู่ในร้าน ข้อมูลที่เก็บได้แก่ ราคา, ประเภทของเมล็ด, รายละเอียดอธิบาย, คุณสมบัติของตัวเมล็ดกาแฟ, ระดับของการคั่ว\n",
        "และอยู่ในแคมเปญอะไร โดยคอลัมน์แคมเปญสามารถเป็น null ได้ เพราะว่ามีเมล็ดกาแฟแค่บางอันเท่านั้นที่มีมาเฉพาะช่วงเทศกาลนั้นๆ มี primary key คือ coffee_bean_at_home _id"
      ],
      "metadata": {
        "id": "eB2T-a5L6hYP"
      }
    },
    {
      "cell_type": "markdown",
      "source": [
        "## Region\n",
        "\n",
        "ตาราง region เก็บข้อมูลแหล่งภูมิภาคที่เมล็ดกาแฟถูกผลิตขึ้น มี primary key คือ region_id ตารางนี้เชื่อมไปยังตาราง region_coffee_bean_at_home โดยมีความสัมพันธ์แบบ one-to-many"
      ],
      "metadata": {
        "id": "WOhRmnJo6haJ"
      }
    },
    {
      "cell_type": "markdown",
      "source": [
        "## Region_coffee_bean_at_home\n",
        "\n",
        "ตาราง region_coffee_bean_at_home คือตารางที่เชื่อมระหว่าง region_id ของตาราง region กับ coffee_bean_at_home _id ของตาราง coffee_bean_at_home เพราะ เมล็ดกาแฟบางอันถูกผลิตได้หลายที่"
      ],
      "metadata": {
        "id": "8nr8c-Qd6hcX"
      }
    },
    {
      "cell_type": "markdown",
      "source": [
        "## Delivery_cost\n",
        "\n",
        "ตาราง delivery_cost แสดงการเก็บค่าส่งในกรณีที่ลูกค้าสั่งโดยวิธีการ delivery ผ่าน App Starbucks TH ซึ่งจะมีค่าส่งที่แตกต่างกันตามยอดสั่งซื้อของลูกค้า มี primary key คือ delivery_cost_id ตารางนี้เชื่อมไปยังตาราง orderโดยมีความสัมพันธ์แบบ one-to-many"
      ],
      "metadata": {
        "id": "JEJkRA0-6hfQ"
      }
    },
    {
      "cell_type": "markdown",
      "source": [
        "## Delivery_info\n",
        "\n",
        "ตาราง delivery_info เก็บข้อมูลที่อยู่ที่ลูกค้าให้นำไปส่ง กรณีสั่งผ่าน App Starbucks TH โดยในตารางเก็บชื่อผู้สั่งซื้อ, เบอร์โทร, ที่อยู่และหมายเหตุสำหรับไรเดอร์ ตารางนี้มี primary key คือ order_id เชื่อมกับ order_id ของตาราง order  "
      ],
      "metadata": {
        "id": "xiYGavmD6hht"
      }
    },
    {
      "cell_type": "markdown",
      "source": [
        "## Dinetype\n",
        "\n",
        "ตาราง dinetype เก็บประเภทการสั่งทานของลูกค้าโดยแยกเป็นสั่งทานที่ร้าน, สั่งกลับบ้าน(take away), สั่งแล้วมารับหน้าร้านและแบบส่ง Delivery มี primary key คือ dinetype_id ตารางนี้เชื่อมไปยังตาราง order โดยมีความสัมพันธ์แบบ one-to-many"
      ],
      "metadata": {
        "id": "sEDkuZcv6hkN"
      }
    },
    {
      "cell_type": "markdown",
      "source": [
        "## Drink\n",
        "\n",
        "ตาราง drink เป็นตารางเก็บข้อมูลเครื่องดื่มของร้าน เป็นส่วนหนึ่งของตาราง menu โดยเก็บราคาและต้นทุน มี primary key คือ drink_id มี foreign key คือ menu_id, size_id และdrink_type_id ตารางนี้เชื่อมไปยังตาราง order_drink โดยมีความสัมพันธ์แบบ one-to-many"
      ],
      "metadata": {
        "id": "56DXKX9G6iDk"
      }
    },
    {
      "cell_type": "markdown",
      "source": [
        "## Drink_type\n",
        "\n",
        "ตาราง drink_type เก็บข้อมูลประเภทของเครื่องดื่ม ได้แก่ ร้อน, เย็น, ปั่น มี primary key คือ drink_type_id ตารางนี้เชื่อมไปยังตาราง drink โดยมีความสัมพันธ์แบบ one-to-many"
      ],
      "metadata": {
        "id": "TF5VEPrd6iGF"
      }
    },
    {
      "cell_type": "markdown",
      "source": [
        "## Employee\n",
        "\n",
        "ตาราง employee เก็บข้อมูลพนักงาน โดยข้อมูลที่เก็บได้แก่ ไอดี, ชื่อ, วันที่เริ่มงาน, สาขาที่ทำงานและเป็นเมเนเจอร์หรือไม่ มี primary key คือ employee_id ตารางนี้เชื่อมไปยังตาราง order โดยมีความสัมพันธ์แบบ one-to-many"
      ],
      "metadata": {
        "id": "LW1bfQ7k6iJc"
      }
    },
    {
      "cell_type": "markdown",
      "source": [
        "## FAQ\n",
        "\n",
        "ตาราง faq เป็นตารางที่ไม่ได้เชื่อมกับอะไรเลย เก็บรวบรวมข้อมูลคำถาม-คำตอบที่ร้าน Starbucks ถูกถามบ่อยๆ มี primary key คือ faq_id"
      ],
      "metadata": {
        "id": "8R2__g4c6iLr"
      }
    },
    {
      "cell_type": "markdown",
      "source": [
        "## Food\n",
        "\n",
        "ตาราง food เก็บข้อมูลเฉพาะอาหารที่ขายในร้าน เป็นส่วนหนึ่งในตาราง menu มี primary key คือ menu_id และเก็บราคากับต้นทุน"
      ],
      "metadata": {
        "id": "5MSm2C_i8AG1"
      }
    },
    {
      "cell_type": "markdown",
      "source": [
        "## Gift_card\n",
        "\n",
        "ตาราง gift_card เป็นตารางที่เก็บข้อมูลของคนที่ถูกส่ง gift card ให้และสามารถนำไปใช้แทนเป็นเงินสดที่ร้าน Starbucks ได้ มี primary key คือ gift_card_id และมี foreign key คือ member_id โดยสามารถเป็นค่า null ได้ ตารางนี้เชื่อมไปยังตาราง order_use_gift_card โดยมีความสัมพันธ์แบบ one-to-many"
      ],
      "metadata": {
        "id": "oNUmM6eO8AJG"
      }
    },
    {
      "cell_type": "markdown",
      "source": [
        "## Member_account\n",
        "\n",
        "ตาราง member_account คือตารางที่เก็บข้อมูลคนที่สมัครเป็นสมาชิกกับ Starbucks เก็บอีเมล์, ชื่อ, วันเกิด, เบอร์โทร, รับข้อมูลการตลาดหรือไม่, วันที่เริ่มเป็นสมาชิก, ยอดแต้มสะสมและ wallet มี primary key คือ member_id และมี foreign key คือ membership_type_id โดยวันเกิด, เบอร์โทรและชื่อภาษไทยเป็นค่า null ได้"
      ],
      "metadata": {
        "id": "DmPiw_f18ALh"
      }
    },
    {
      "cell_type": "markdown",
      "source": [
        "## Membership_type\n",
        "\n",
        "ตาราง membership_type เก็บข้อมูลระดับการเป็น member ของสมาชิกร้าน Starbucks มี primary key คือ membership_type_id ตารางนี้เชื่อมไปยังตาราง membership_type_privilege และ member_account โดยมีความสัมพันธ์แบบ one-to-many"
      ],
      "metadata": {
        "id": "S_zQoBlG8AOp"
      }
    },
    {
      "cell_type": "markdown",
      "source": [
        "## Membership_type_privilege\n",
        "\n",
        "ตาราง membership_type_privilege เป็นตารางที่เก็บข้อมูลว่าสมาชิกระดับไหนมีสิทธิพิเศษอะไรบ้าง โดยเชื่อมระหว่าง membership_type_id ของตาราง membership_type กับ privilegeid ของตาราง privilege เพราะความสัมพันธ์ของ 2 ตารางนี้เป็นแบบ many-to-many"
      ],
      "metadata": {
        "id": "xTzTlAbT8AQd"
      }
    },
    {
      "cell_type": "markdown",
      "source": [
        "## Menu\n",
        "\n",
        "ตาราง menu เป็นตารางที่รวบรวมอาหารและเครื่องดื่มที่ถูกขายในร้าน Starbucks มี primary key คือ menu_id และมี foreign key คือ category_id กับ campaign_id โดย campaign_id เป็นค่า null ได้ เนื่องจากมีแค่บางเมนูที่จะมาเฉพาะช่วงแคมเปญนั้นๆ ตารางนี้เชื่อมไปยังตาราง food และ drink โดยมีความสัมพันธ์แบบ one-to-many"
      ],
      "metadata": {
        "id": "zxdiRA6U8ASr"
      }
    },
    {
      "cell_type": "markdown",
      "source": [
        "## Merchandise\n",
        "\n",
        "ตาราง merchandise เป็นตารางเก็บข้อมูลสินค้าที่ขายในร้าน ตัวอย่างสินค้าเช่น กระติกน้ำ, แก้ว Tumbler, กระเป๋าผ้า เป็นต้น มี primary key คือ merchandise_id คอลัมน์ end_date และ campaign_id สามารถเป็น null ได้ เพราะ สินค้าบางอย่างมีขายเฉพาะแค่ช่วงแคมเปญ สินค้าบางอย่างมีวางขายที่ร้านอยู่ตลอด ตารางนี้เชื่อมไปยังตาราง order_merchandise โดยมีความสัมพันธ์แบบ one-to-many"
      ],
      "metadata": {
        "id": "xX-wERa48AVO"
      }
    },
    {
      "cell_type": "markdown",
      "source": [
        "## Order\n",
        "\n",
        "ตาราง order เป็นตารางที่รวบรวมออเดอร์ที่ลูกค้าสั่งทั้งหมด ประกอบไปด้วย ประเภทที่เลือกจ่ายเงิน, สั่งแบบไหน, สั่งที่สาขาไหน, ลูกค้าเป็นเมมเบอร์หรือไม่, พนักงานที่รับคำสั่งซื้อคือใคร, คำสั่งซื้อนั้นใช้สิทธิพิเศษอะไร, เวลาในการสั่งซื้อ, ใบกำกับภาษี(กรณีที่สั่งซื้อในนามของบริษัท), จำนวนเงินทั้งหมดและค่าส่งสินค้า โดย member_id, tax_invoice_id และ delivery_cost_id สามารถเป็นค่า null ได้ มี primary key คือ order_id"
      ],
      "metadata": {
        "id": "k5BYh9b18AXn"
      }
    },
    {
      "cell_type": "markdown",
      "source": [
        "## Order_coffee_bean_at_home\n",
        "\n",
        "ตาราง order_coffee_bean_at_home เป็นตารางที่เชื่อมระหว่าง coffee_bean_id ของตาราง coffee_bean_at_home กับ order_id ของตาราง order ความสัมพันธ์ของ 2 ตารางนี้เป็นแบบ many-to-many และเก็บจำนวนที่ลูกค้าสั่งซื้อเมล็ดกาแฟ"
      ],
      "metadata": {
        "id": "JXH5ET8M8Aah"
      }
    },
    {
      "cell_type": "markdown",
      "source": [
        "## Order_drink\n",
        "\n",
        "ตาราง order_drink เป็นตารางที่เก็บข้อมูลออเดอร์ที่เป็นเครื่องดื่มและระดับความหวานที่ลูกค้าเลือก มี primary key คือ order_drink ตารางนี้เชื่อมไปยังตาราง order_drink_add_on โดยมีความสัมพันธ์แบบ one-to-many เนื่องจากลูกค้าสามารถเลือกเพิ่มได้หลายอย่างใน 1 เมนู"
      ],
      "metadata": {
        "id": "LKEKAN8G8AdS"
      }
    },
    {
      "cell_type": "markdown",
      "source": [
        "## Order_drink_add_on\n",
        "\n",
        "ตาราง order_drink_add_on เป็นตารางที่เชื่อมระหว่าง order_drink_id ของตาราง order_drink กับ add_on_id ของตาราง add_on โดยมีความสัมพันธ์แบบ many-to-many เนื่องจากในการสั่งเครื่องดื่ม 1 เมนู สามารถเลือกใส่เพิ่มได้หลายอย่าง"
      ],
      "metadata": {
        "id": "fkbLjWXt8Afd"
      }
    },
    {
      "cell_type": "markdown",
      "source": [
        "## Order_food\n",
        "\n",
        "ตาราง order_food ความสัมพันธ์แบบ many-to-many ระหว่าง menu_id ของตาราง menu กับ order_id ของตาราง order และเก็บข้อมูลจำนวนครั้งที่ลูกค้าสั่งแต่ละเมนูในออเดอร์นั้น"
      ],
      "metadata": {
        "id": "A63fyQ4l8Ah4"
      }
    },
    {
      "cell_type": "markdown",
      "source": [
        "## Order_merchandise\n",
        "\n",
        "ตาราง order_merchandise ความสัมพันธ์แบบ many-to-many ระหว่าง merchandise_id ของตาราง merchandise กับ order_id ของตาราง order และเก็บข้อมูลจำนวนชิ้นของสินค้าที่ลูกค้าสั่งในออเดอร์นั้น"
      ],
      "metadata": {
        "id": "qsbWbF3_-YJH"
      }
    },
    {
      "cell_type": "markdown",
      "source": [
        "## Order_tea_at_home\n",
        "\n",
        "ตาราง order_tea_at_home ความสัมพันธ์แบบ many-to-many ระหว่าง tea_at_home_id ของตาราง tea_at_home กับ order_id ของตาราง order และเก็บข้อมูลจำนวนชิ้นของสินค้าที่ลูกค้าสั่งในออเดอร์นั้น"
      ],
      "metadata": {
        "id": "qJ0JsxZr-YLg"
      }
    },
    {
      "cell_type": "markdown",
      "source": [
        "## Order_use_gift_card\n",
        "\n",
        "ตาราง order_use_gift_card เกิดจากความสัมพันธ์แบบ many-to-many ระหว่าง order_id ของตาราง order กับ gift_card_id ของตาราง gift_card เก็บข้อมูลออเดอร์ที่มีการใช้ gift card"
      ],
      "metadata": {
        "id": "0-y3D_J6-YN7"
      }
    },
    {
      "cell_type": "markdown",
      "source": [
        "## Payment\n",
        "\n",
        "ตาราง payment เก็บข้อมูลช่องทางการจ่ายเงิน ได้แก่ เงินสดและการโอนผ่านธนาคารต่างๆ มี primary key คือ payment_id ตารางนี้เชื่อมไปยังตาราง order โดยมีความสัมพันธ์แบบ one-to-many"
      ],
      "metadata": {
        "id": "X3IU5xA7-YRp"
      }
    },
    {
      "cell_type": "markdown",
      "source": [
        "## Privilege\n",
        "\n",
        "ตาราง privilege เก็บข้อมูลสิทธิพิเศษต่างๆ ที่มีให้ในสมาชิกแต่ละระดับรวมถึงสำหรับลูกค้าที่ไม่ได้เป็นสมาชิก มี primary key คือ privilege_id ตารางนี้เชื่อมไปยังตาราง membership_type_privilege กับ order โดยมีความสัมพันธ์แบบ one-to-many"
      ],
      "metadata": {
        "id": "QsPzK_uc-YTm"
      }
    },
    {
      "cell_type": "markdown",
      "source": [
        "## Roast\n",
        "\n",
        "ตาราง roast เก็บข้อมูลระดับการคั่วของเมล็ดกาแฟที่นำมาขายในร้าน Starbucks มีทั้งหมด 3 ระดับ ได้แก่ คั่วอ่อน, คั่วกลาง, คั่วเข้ม มี primary key คือ roast_id ตารางนี้เชื่อมไปยังตาราง coffee_bean_at_home โดยมีความสัมพันธ์แบบ one-to-many"
      ],
      "metadata": {
        "id": "l9xkReHs-YVl"
      }
    },
    {
      "cell_type": "markdown",
      "source": [
        "## Size\n",
        "\n",
        "ตาราง size เก็บข้อมูลขนาดแก้วเครื่องดื่มที่ร้านมีให้ลูกค้าเลือกทั้งหมด 4 ไซส์ ได้แก่ short, tall, grande, venti มี primary key คือ sizeid ตารางนี้เชื่อมไปยังตาราง drink โดยมีความสัมพันธ์แบบ one-to-many"
      ],
      "metadata": {
        "id": "7xB_fXNV_Ald"
      }
    },
    {
      "cell_type": "markdown",
      "source": [
        "## Sweetness\n",
        "\n",
        "ตาราง sweetness เก็บข้อมูลระดับความหวาน มีทั้งหมด 3 ระดับ ได้แก่ ไม่หวาน, หวานน้อย, ปกติ มี primary key คือ sweetness_id ตารางนี้เชื่อมไปยังตาราง order_drink โดยมีความสัมพันธ์แบบ one-to-many"
      ],
      "metadata": {
        "id": "3H3xujta_Atn"
      }
    },
    {
      "cell_type": "markdown",
      "source": [
        "## Tax_invoice\n",
        "\n",
        "ตาราง tax_invoice เก็บข้อมูลบริษัทที่สั่งซื้อสินค้าที่ร้าน Starbucks เพื่อออกใบกำกับภาษี โดยเก็บชื่อบริษัท, ที่อยู่, เบอร์โทร ตารางนี้เชื่อมไปยังตาราง order โดยมีความสัมพันธ์แบบ one-to-many มี primary key คือ tax_invoice_id"
      ],
      "metadata": {
        "id": "m5qAKLjC_A3m"
      }
    },
    {
      "cell_type": "markdown",
      "source": [
        "## Tea_at_home\n",
        "\n",
        "ตาราง tea_at_home เก็บข้อมูลชาที่ขายที่ร้าน Starbucks มี primary key คือ tea_at_home_id ตารางนี้เชื่อมไปยังตาราง order_tea_at_home โดยมีความสัมพันธ์แบบ one-to-many"
      ],
      "metadata": {
        "id": "ZRIwieSR_BCN"
      }
    },
    {
      "cell_type": "markdown",
      "source": [
        "# Analysis of current business practices"
      ],
      "metadata": {
        "id": "rURFD9lh_YKm"
      }
    },
    {
      "cell_type": "markdown",
      "source": [
        "## **Q1** วันและช่วงเวลาไหนที่ยอดขายเยอะ"
      ],
      "metadata": {
        "id": "-cduWnk0_YN3"
      }
    },
    {
      "cell_type": "markdown",
      "source": [],
      "metadata": {
        "id": "0gg6vXp0cjKn"
      }
    },
    {
      "cell_type": "markdown",
      "source": [
        "## **Q2** เครื่องดื่ม 5 อันดับแรก/สุดท้าย และอาหาร 5 อันดับแรก/สุดท้าย ที่ขายดีที่สุด ในแต่ละเดือน"
      ],
      "metadata": {
        "id": "-hhhXNyW_YQg"
      }
    },
    {
      "cell_type": "markdown",
      "source": [
        "## **Q3** ลูกค้านำแก้วมาเองมากน้อยแค่ไหน\n",
        "-เอามาหาสัดส่วนต่อ order ทั้งหมดสามารถแสดงให้เห็นว่าค่อนข้างน้อย\n",
        "\n",
        "-สะท้อนให้เห็นได้ว่าโปรโมชั่นนำแก้วมาเองลด 10 บาท   นั้้นไม่เพียงพอหรือไม่ดึงดูดให้คนสามารถนำแก้วมาใช้เองได้\n",
        "\n"
      ],
      "metadata": {
        "id": "YHt40Wgm_YUB"
      }
    },
    {
      "cell_type": "markdown",
      "source": [
        "## **Q4** คนมักจะให้ gift card ช่วงไหนมากที่สุด"
      ],
      "metadata": {
        "id": "uif8cPnj_YWi"
      }
    },
    {
      "cell_type": "markdown",
      "source": [
        "## **Q5** แคมเปญอันไหนที่มีรายได้มากที่สุด"
      ],
      "metadata": {
        "id": "1lvLxEYs_YYX"
      }
    },
    {
      "cell_type": "markdown",
      "source": [
        "## **Q6** เรียงลำดับรายได้รวมของ dinetype แต่ละแบบ\n",
        "\n",
        "select dinetype_id, sum(total), as total_sum\n",
        "\n",
        "from order\n",
        "\n",
        "group by dinetype_id;\n",
        "\n"
      ],
      "metadata": {
        "id": "h8bcI8kU_YaY"
      }
    },
    {
      "cell_type": "markdown",
      "source": [
        "## **Q7** สาขาไหนมีรายได้เยอะที่สุด และน้อยที่สุด\n",
        "\n",
        "select branch_id, min(total), max(total)\n",
        "\n",
        "from order\n",
        "\n",
        "group by branch_id;"
      ],
      "metadata": {
        "id": "zHonrJzi_YcY"
      }
    },
    {
      "cell_type": "markdown",
      "source": [
        "## **Q8** บัตรเครดิตของธนาคารไหนถูกใช้มากที่สุด\n",
        "- จากข้อมูลแสดงให้เห็นว\n"
      ],
      "metadata": {
        "id": "9Sd3WNrW_YeU"
      }
    },
    {
      "cell_type": "markdown",
      "source": [
        "## **Q9** คนสั่งเดลิเวอรี่ไปส่งที่แขวงไหนมากที่สุด"
      ],
      "metadata": {
        "id": "MaRv8eBe_Ygd"
      }
    },
    {
      "cell_type": "markdown",
      "source": [
        "## **Q10** คนสั่งซื้อเมล็ดกาแฟกี่ซองต่อครั้ง"
      ],
      "metadata": {
        "id": "3OkGWgsH_Yiy"
      }
    },
    {
      "cell_type": "markdown",
      "source": [
        "# **Conclusion**"
      ],
      "metadata": {
        "id": "f1qthO8S_Ym6"
      }
    },
    {
      "cell_type": "markdown",
      "source": [
        "##Citations\n",
        "\n",
        "*   Starbucks Thailand.(n.d.). Menu. Retrived November 11,2023, from https://www.starbucks.co.th/menu/\n",
        "\n",
        "\n",
        "\n",
        "*   Starbucks Thailand.(n.d.). Merchandise. Retrived November 11,2023, from https://www.starbucks.co.th/merchandise/\n",
        "\n",
        "*   Starbucks Thailand.(n.d.). Starbucks rewards. Retrived November 11,2023, from https://www.starbuckscardth.in.th/\n",
        "\n",
        "\n",
        "\n",
        "*   Starbucks Thailand.(n.d.). FAQ. Retrived November 11,2023, from https://www.starbucks.co.th/th/starbucks-delivery-faqs/\n",
        "\n",
        "\n",
        "\n",
        "*    Starbucks Thailand.(n.d.). Campaign. Retrived November 11,2023, from https://www.facebook.com/StarbucksThailand\n",
        "\n",
        "*   รายการในลิสต์ Starbucks Thailand.(n.d.). Campaign. Retrived November 11,2023, from https://instagram.com/starbucksthailand?igshid=NzZlODBkYWE4Ng==\n",
        "\n",
        "\n",
        "\n",
        "\n",
        "\n",
        "\n",
        "\n",
        "\n",
        "\n",
        "\n",
        "\n",
        "\n",
        "\n",
        "\n",
        "\n",
        "\n",
        "\n",
        "\n"
      ],
      "metadata": {
        "id": "WOWVtloq_-VF"
      }
    }
  ]
}