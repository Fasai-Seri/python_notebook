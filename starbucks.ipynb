{
    "metadata": {
        "kernelspec": {
            "name": "SQL",
            "display_name": "SQL",
            "language": "sql"
        },
        "language_info": {
            "name": "sql",
            "version": ""
        }
    },
    "nbformat_minor": 2,
    "nbformat": 4,
    "cells": [
        {
            "cell_type": "code",
            "source": [
                "hello dfdsfd hiiii dDD"
            ],
            "metadata": {
                "azdata_cell_guid": "cc67d28a-3e77-4549-a7f1-815cc83a1042",
                "language": "sql"
            },
            "outputs": [],
            "execution_count": null
        },
        {
            "cell_type": "code",
            "source": [
                "hello"
            ],
            "metadata": {
                "azdata_cell_guid": "029ff100-18f8-4091-8da1-14d3147220a9",
                "language": "sql"
            },
            "outputs": [],
            "execution_count": null
        }
    ]
}