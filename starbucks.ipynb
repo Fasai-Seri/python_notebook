{
    "metadata": {
        "kernelspec": {
            "name": "SQL",
            "display_name": "SQL",
            "language": "sql"
        },
        "language_info": {
            "name": "sql",
            "version": ""
        }
    },
    "nbformat_minor": 2,
    "nbformat": 4,
    "cells": [
        {
            "cell_type": "code",
            "source": [
                "Hello"
            ],
            "metadata": {
                "azdata_cell_guid": "61b34e59-0d65-46dd-803c-10a5e1494b56",
                "language": "sql"
            },
            "outputs": [],
            "execution_count": null
        }
    ]
}